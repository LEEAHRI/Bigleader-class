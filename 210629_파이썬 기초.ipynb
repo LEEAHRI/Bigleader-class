{
 "cells": [
  {
   "cell_type": "code",
   "execution_count": 1,
   "metadata": {},
   "outputs": [],
   "source": [
    "a = 1\n",
    "b = a\n",
    "c = [1, 2, 3]\n",
    "d = a + 1"
   ]
  },
  {
   "cell_type": "code",
   "execution_count": 2,
   "metadata": {},
   "outputs": [
    {
     "data": {
      "text/plain": [
       "2"
      ]
     },
     "execution_count": 2,
     "metadata": {},
     "output_type": "execute_result"
    }
   ],
   "source": [
    "d"
   ]
  },
  {
   "cell_type": "code",
   "execution_count": 3,
   "metadata": {},
   "outputs": [
    {
     "data": {
      "text/plain": [
       "1"
      ]
     },
     "execution_count": 3,
     "metadata": {},
     "output_type": "execute_result"
    }
   ],
   "source": [
    "c[0]"
   ]
  },
  {
   "cell_type": "code",
   "execution_count": 4,
   "metadata": {},
   "outputs": [
    {
     "name": "stdout",
     "output_type": "stream",
     "text": [
      "민아영 바보\n"
     ]
    }
   ],
   "source": [
    "print('민아영 바보')"
   ]
  },
  {
   "cell_type": "code",
   "execution_count": 6,
   "metadata": {},
   "outputs": [
    {
     "name": "stdout",
     "output_type": "stream",
     "text": [
      "점수를 입력하세요:70\n",
      "C\n"
     ]
    }
   ],
   "source": [
    "a = int(input('점수를 입력하세요:'))\n",
    "if a >= 90:\n",
    "    print('A')\n",
    "elif 80 <= a <= 90:\n",
    "    print('B')\n",
    "elif 70 <= a <= 80:\n",
    "    print('C')\n",
    "else:\n",
    "    print('F')"
   ]
  },
  {
   "cell_type": "code",
   "execution_count": null,
   "metadata": {},
   "outputs": [],
   "source": [
    "b = [70, 60, 55, 75, 95, 90, 80, 80, 85, 100]\n"
   ]
  },
  {
   "cell_type": "code",
   "execution_count": 25,
   "metadata": {},
   "outputs": [
    {
     "data": {
      "text/plain": [
       "\"\\n#교수님 과제\\nmenu = input('메뉴를 입력하세요:')\\nprice_1 = int(input('짜장면 가격을 입력하세요:'))\\nprice_2 = int(input('짬뽕 가격을 입력하세요:'))\\nprice_3 = int(input('볶음밥 가격을 입력하세요:'))\\nprice_4 = int(input('탕수육 가격을 입력하세요'))\\n#자장면의 개수\\nnumber_1 = int(input('짜장면 개수를 입력하세요:'))\\n#짬뽕의 개수\\nnumber_2 = int(input('짬뽕 개수를 입력하세요:'))\\n#볶음밥의 개수\\nnumber_3 = int(input('볶음밥 개수를 입력하세요:'))\\n#탕수육의 개수\\nnumber_4 = int(input('탕수육 개수를 입력하세요:'))\\n\\ntable = int(input('테이플 번호는?:'))\\n\\ntotal = 0\\n\\n#자장면 주문시 \\ndef pay_1(menu, price, number_1):\\n    if number_1 > 0:\\n        total += number_1 * price_1\\n    else:\\n        True\\n\\ndef pay_2(menu, price, number_2):\\n    if number_2 > 0:\\n        total += number_2 * price_2\\n    else:\\n        True\\ndef pay_3(menu, price, number_3):\\n    if number_3 > 0:\\n        total += number_3 * price_3\\n    else:\\n        True\\n\\ntotal_price = pay_1 + pay_2 + pay_3\\n \\n\""
      ]
     },
     "execution_count": 25,
     "metadata": {},
     "output_type": "execute_result"
    }
   ],
   "source": [
    "'''\n",
    "#교수님 과제\n",
    "menu = input('메뉴를 입력하세요:')\n",
    "price_1 = int(input('짜장면 가격을 입력하세요:'))\n",
    "price_2 = int(input('짬뽕 가격을 입력하세요:'))\n",
    "price_3 = int(input('볶음밥 가격을 입력하세요:'))\n",
    "price_4 = int(input('탕수육 가격을 입력하세요'))\n",
    "#자장면의 개수\n",
    "number_1 = int(input('짜장면 개수를 입력하세요:'))\n",
    "#짬뽕의 개수\n",
    "number_2 = int(input('짬뽕 개수를 입력하세요:'))\n",
    "#볶음밥의 개수\n",
    "number_3 = int(input('볶음밥 개수를 입력하세요:'))\n",
    "#탕수육의 개수\n",
    "number_4 = int(input('탕수육 개수를 입력하세요:'))\n",
    "\n",
    "table = int(input('테이플 번호는?:'))\n",
    "\n",
    "total = 0\n",
    "\n",
    "#자장면 주문시 \n",
    "def pay_1(menu, price, number_1):\n",
    "    if number_1 > 0:\n",
    "        total += number_1 * price_1\n",
    "    else:\n",
    "        True\n",
    "\n",
    "def pay_2(menu, price, number_2):\n",
    "    if number_2 > 0:\n",
    "        total += number_2 * price_2\n",
    "    else:\n",
    "        True\n",
    "def pay_3(menu, price, number_3):\n",
    "    if number_3 > 0:\n",
    "        total += number_3 * price_3\n",
    "    else:\n",
    "        True\n",
    "\n",
    "total_price = pay_1 + pay_2 + pay_3\n",
    " \n",
    "'''\n",
    "  \n",
    "        "
   ]
  },
  {
   "cell_type": "code",
   "execution_count": 20,
   "metadata": {},
   "outputs": [
    {
     "name": "stdout",
     "output_type": "stream",
     "text": [
      "테이블 번호는?:1\n",
      "자장면의 개수는?1\n",
      "짬뽕의 개수는?1\n",
      "볶음밥의 개수는?1\n",
      "탕수육의 개수는?1\n",
      "27000\n"
     ]
    }
   ],
   "source": [
    "#메뉴 총 가격 ... \n",
    "\n",
    "menu = {'자장면':int(5000), '짬뽕': int(6000), '볶음밥': int(6000), '탕수육': int(10000)}\n",
    "table = int(input('테이블 번호는?:'))\n",
    "pay =[]\n",
    "\n",
    "a = int(input('자장면의 개수는?'))\n",
    "b = int(input('짬뽕의 개수는?'))\n",
    "c = int(input('볶음밥의 개수는?'))\n",
    "d = int(input('탕수육의 개수는?'))\n",
    "total_price = 0\n",
    "if a > 0:\n",
    "    pay.append(menu['자장면'] * a)\n",
    "if b > 0:\n",
    "    pay.append(menu['짬뽕'] * b)\n",
    "if c > 0:\n",
    "    pay.append(menu['볶음밥'] * c)\n",
    "if d > 0:\n",
    "    pay.append(menu['탕수육'] * d)\n",
    "\n",
    "for i in  range(0,len(pay)):\n",
    "    total_price += pay[i]\n",
    "\n",
    "print(total_price)\n",
    "    "
   ]
  },
  {
   "cell_type": "code",
   "execution_count": 22,
   "metadata": {},
   "outputs": [
    {
     "name": "stdout",
     "output_type": "stream",
     "text": [
      "166833\n"
     ]
    }
   ],
   "source": [
    "#while문\n",
    "cnt = 0\n",
    "while 1<= a <= 1000:\n",
    "    a = a + 1\n",
    "    if a % 3 == 0:\n",
    "        cnt += a\n",
    "print(cnt)"
   ]
  },
  {
   "cell_type": "code",
   "execution_count": 24,
   "metadata": {},
   "outputs": [
    {
     "name": "stdout",
     "output_type": "stream",
     "text": [
      "79\n"
     ]
    }
   ],
   "source": [
    "a = [70, 60, 55, 95, 90, 80, 85, 100]\n",
    "total = 0\n",
    "for i in a:\n",
    "    total = total + i\n",
    "print(total // len(a))"
   ]
  },
  {
   "cell_type": "code",
   "execution_count": 26,
   "metadata": {},
   "outputs": [],
   "source": [
    "def sum_n(n):\n",
    "    cnt = 0\n",
    "    for i in range (1,n+1):\n",
    "        cnt += i\n",
    "    return cnt\n",
    "    "
   ]
  },
  {
   "cell_type": "code",
   "execution_count": 27,
   "metadata": {},
   "outputs": [
    {
     "name": "stdout",
     "output_type": "stream",
     "text": [
      "55\n"
     ]
    }
   ],
   "source": [
    "print(sum_n(10))"
   ]
  },
  {
   "cell_type": "code",
   "execution_count": 28,
   "metadata": {},
   "outputs": [],
   "source": [
    "def is_odd(n):\n",
    "    if n % 2 == 0 :\n",
    "        print('짝수')\n",
    "    else:\n",
    "        print('홀수')\n",
    "    return is_odd\n",
    "        "
   ]
  },
  {
   "cell_type": "code",
   "execution_count": 29,
   "metadata": {},
   "outputs": [
    {
     "name": "stdout",
     "output_type": "stream",
     "text": [
      "홀수\n",
      "<function is_odd at 0x000001ADBC6420D8>\n"
     ]
    }
   ],
   "source": [
    "print(is_odd(3))"
   ]
  },
  {
   "cell_type": "code",
   "execution_count": 30,
   "metadata": {},
   "outputs": [
    {
     "name": "stdout",
     "output_type": "stream",
     "text": [
      "짝수\n"
     ]
    },
    {
     "data": {
      "text/plain": [
       "<function __main__.is_odd(n)>"
      ]
     },
     "execution_count": 30,
     "metadata": {},
     "output_type": "execute_result"
    }
   ],
   "source": [
    "is_odd(4)"
   ]
  },
  {
   "cell_type": "code",
   "execution_count": null,
   "metadata": {},
   "outputs": [],
   "source": [
    "with open('실습문제5.txt','w') as f:\n",
    "    f.write('')\n"
   ]
  },
  {
   "cell_type": "code",
   "execution_count": null,
   "metadata": {},
   "outputs": [],
   "source": []
  },
  {
   "cell_type": "markdown",
   "metadata": {},
   "source": []
  }
 ],
 "metadata": {
  "kernelspec": {
   "display_name": "Python 3",
   "language": "python",
   "name": "python3"
  },
  "language_info": {
   "codemirror_mode": {
    "name": "ipython",
    "version": 3
   },
   "file_extension": ".py",
   "mimetype": "text/x-python",
   "name": "python",
   "nbconvert_exporter": "python",
   "pygments_lexer": "ipython3",
   "version": "3.7.6"
  }
 },
 "nbformat": 4,
 "nbformat_minor": 4
}
